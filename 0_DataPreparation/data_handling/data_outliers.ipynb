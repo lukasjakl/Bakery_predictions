{
 "cells": [
  {
   "cell_type": "code",
   "execution_count": 1,
   "id": "8f06f699",
   "metadata": {},
   "outputs": [
    {
     "name": "stdout",
     "output_type": "stream",
     "text": [
      "✅ Done. Saved dataset with 'is_outlier' column to: cleaned_data_imputed_with_outliers.csv\n"
     ]
    }
   ],
   "source": [
    "import pandas as pd\n",
    "import numpy as np\n",
    "\n",
    "# ------------------------------------\n",
    "# 1️⃣ Load your data\n",
    "file_path = '0_DataPreparation/initialdata/cleaned_data_imputed.csv'  # adjust to your path\n",
    "df = pd.read_csv(file_path, parse_dates=['Datum'])\n",
    "\n",
    "# ------------------------------------\n",
    "# 2️⃣ Prepare outlier flags\n",
    "product_groups = df['Warengruppe'].dropna().unique()\n",
    "product_groups = [p for p in product_groups if p != 'Saisonbrot']  # exclude Saisonbrot\n",
    "\n",
    "# Initialize flag column\n",
    "df['is_outlier'] = 0\n",
    "\n",
    "# Loop through each product to compute IQR-based flags\n",
    "for product in product_groups:\n",
    "    prod_df = df[df['Warengruppe'] == product]\n",
    "    umsatz = prod_df['Umsatz'].dropna()\n",
    "    \n",
    "    q1 = np.percentile(umsatz, 25)\n",
    "    q3 = np.percentile(umsatz, 75)\n",
    "    iqr = q3 - q1\n",
    "    lower_bound = q1 - 1.5 * iqr\n",
    "    upper_bound = q3 + 1.5 * iqr\n",
    "\n",
    "    # Set flag\n",
    "    mask = (df['Warengruppe'] == product) & (\n",
    "        (df['Umsatz'] < lower_bound) | (df['Umsatz'] > upper_bound)\n",
    "    )\n",
    "    df.loc[mask, 'is_outlier'] = 1\n",
    "\n",
    "# ------------------------------------\n",
    "# 3️⃣ Save to new CSV\n",
    "output_file = 'cleaned_data_imputed_with_outliers.csv'\n",
    "df.to_csv(output_file, index=False)\n",
    "print(f\"✅ Done. Saved dataset with 'is_outlier' column to: {output_file}\")\n"
   ]
  }
 ],
 "metadata": {
  "kernelspec": {
   "display_name": "Python 3",
   "language": "python",
   "name": "python3"
  },
  "language_info": {
   "codemirror_mode": {
    "name": "ipython",
    "version": 3
   },
   "file_extension": ".py",
   "mimetype": "text/x-python",
   "name": "python",
   "nbconvert_exporter": "python",
   "pygments_lexer": "ipython3",
   "version": "3.9.6"
  }
 },
 "nbformat": 4,
 "nbformat_minor": 5
}
